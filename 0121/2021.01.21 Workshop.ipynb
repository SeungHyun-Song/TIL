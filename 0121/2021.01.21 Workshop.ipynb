{
 "cells": [
  {
   "cell_type": "code",
   "execution_count": null,
   "metadata": {},
   "outputs": [],
   "source": []
  },
  {
   "cell_type": "code",
   "execution_count": 3,
   "metadata": {},
   "outputs": [
    {
     "data": {
      "text/plain": [
       "336"
      ]
     },
     "execution_count": 3,
     "metadata": {},
     "output_type": "execute_result"
    }
   ],
   "source": [
    "# 문자 -> 아스키 코드\n",
    "def get_secret_number(word):\n",
    "    # 변수 초기화\n",
    "    total = 0\n",
    "    \n",
    "    for char in word:\n",
    "        total += ord(char)\n",
    "        \n",
    "    return total\n",
    "\n",
    "get_secret_number('tom') #=> 336"
   ]
  },
  {
   "cell_type": "code",
   "execution_count": 2,
   "metadata": {},
   "outputs": [
    {
     "name": "stdout",
     "output_type": "stream",
     "text": [
      "z\n",
      "john\n",
      "seungHyun\n",
      "sohyun\n"
     ]
    }
   ],
   "source": [
    "def get_strong_word(word1, word2):\n",
    "    \n",
    "    word1_total = get_secret_number(word1)\n",
    "    word2_total = get_secret_number(word2)\n",
    "    \n",
    "    if word1_total > word2_total:\n",
    "        return word1\n",
    "    else:\n",
    "        return word2\n",
    "\n",
    "print(get_strong_word('z', 'a')) #=> 'z'\n",
    "print(get_strong_word('tom', 'john'))\n",
    "print(get_strong_word('seungHyun', 'daeho'))\n",
    "print(get_strong_word('sohyun', 'changO'))"
   ]
  }
 ],
 "metadata": {
  "kernelspec": {
   "display_name": "Python 3",
   "language": "python",
   "name": "python3"
  },
  "language_info": {
   "codemirror_mode": {
    "name": "ipython",
    "version": 3
   },
   "file_extension": ".py",
   "mimetype": "text/x-python",
   "name": "python",
   "nbconvert_exporter": "python",
   "pygments_lexer": "ipython3",
   "version": "3.8.7"
  }
 },
 "nbformat": 4,
 "nbformat_minor": 4
}
