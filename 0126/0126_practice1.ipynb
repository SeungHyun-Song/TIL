{
 "cells": [
  {
   "cell_type": "markdown",
   "metadata": {},
   "source": [
    "# Practice 1\n",
    "\n",
    "> 복잡한 자료구조의 (2차원 리스트) 반복문"
   ]
  },
  {
   "cell_type": "markdown",
   "metadata": {},
   "source": [
    "## 복잡한 리스트의 합\n",
    "\n",
    "> 2차원 리스트를 반복하는 방법을 알아봅시다. \n",
    "\n",
    "\n",
    "* 주어진 아래의 리스트를 반복하여 숫자의 합을 반환하시오.\n",
    "\n",
    "---\n",
    "**예시 입력**\n",
    "\n",
    "```python\n",
    "numbers = [\n",
    "    [1, 4],\n",
    "    [10, 5],\n",
    "    [20, 30]    \n",
    "]\n",
    "\n",
    "```\n",
    "\n",
    "**예시 출력**\n",
    "```python\n",
    "sum_list([[1, 4], [10, 5], [20, 30]]) # 70\n",
    "```"
   ]
  },
  {
   "cell_type": "markdown",
   "metadata": {},
   "source": [
    "### for 문을 활용하여 풀이하기\n",
    "\n",
    "```python\n",
    "for element in list:\n",
    "```"
   ]
  },
  {
   "cell_type": "code",
   "execution_count": 29,
   "metadata": {},
   "outputs": [],
   "source": [
    "# 아래에 코드를 작성하세요.\n",
    "def sum_list(numbers):\n",
    "    \n",
    "    total = 0\n",
    "    # 외부 리스트를 순회하여 내부 리스트를 하나씩 꺼낸다.\n",
    "    for i in numbers:\n",
    "        #내부 리스트를 순회하여 숫자를 하나씩 꺼낸다.\n",
    "        for j in i:\n",
    "            total += j\n",
    "            \n",
    "#     for i in numbers:\n",
    "#         if type(i) == list:\n",
    "#             total += sum_list(i)\n",
    "#         else:\n",
    "#             total += i\n",
    "            \n",
    "    return total\n",
    "\n",
    "\n"
   ]
  },
  {
   "cell_type": "code",
   "execution_count": 30,
   "metadata": {},
   "outputs": [
    {
     "name": "stdout",
     "output_type": "stream",
     "text": [
      "170\n"
     ]
    }
   ],
   "source": [
    "print(sum_list([[1, 4], [10, 5], [20, 30,100],]))"
   ]
  },
  {
   "cell_type": "markdown",
   "metadata": {},
   "source": [
    "### Index로 접근하여 풀이하기\n",
    "\n",
    "```python\n",
    "for element in range(len(list)):\n",
    "```"
   ]
  },
  {
   "cell_type": "code",
   "execution_count": 31,
   "metadata": {},
   "outputs": [],
   "source": [
    "# 아래에 코드를 작성하세요.\n",
    "def sum_list_index(numbers):\n",
    "    \n",
    "    total = 0\n",
    "    # 외부 리스트를 Index 값으로 순회하여 내부 리스트를 하나씩 꺼낸다.\n",
    "    for i in range(len(numbers)):\n",
    "        # 내부 리스트를 Index 값으로 순회하여 숫자를 하나씩 꺼낸다.\n",
    "        for j in range(len(numbers[i])): # 리스트 numbers 안의 리스트의 길이 의미.\n",
    "            # 여기까지를 print 해보면 numbers 구성요소들의 좌표가 출력된다.\n",
    "            \n",
    "            # 최종 숫자 요소 접근 : 2차원_배열_이름[외부_리스트_인덱스][내부_리스트_인덱스]\n",
    "            total += numbers[i][j]\n",
    "    return total\n",
    "\n",
    "# def sum_list_index(numbers):\n",
    "    \n",
    "#     total = 0\n",
    "#     i=0\n",
    "#     for i in range(len(numbers)):\n",
    "#         j=0\n",
    "#         for j in range(len(numbers[i])):\n",
    "            \n",
    "#             total += numbers[i][j]\n",
    "#             j += 1\n",
    "\n",
    "    return total"
   ]
  },
  {
   "cell_type": "code",
   "execution_count": 33,
   "metadata": {},
   "outputs": [
    {
     "name": "stdout",
     "output_type": "stream",
     "text": [
      "120\n"
     ]
    }
   ],
   "source": [
    "print(sum_list_index([[1, 4], [10, 5], [20, 30, 50]]))"
   ]
  },
  {
   "cell_type": "markdown",
   "metadata": {},
   "source": [
    "### while 문을 활용하여 풀이하기\n",
    "\n",
    "```python\n",
    "while ____:\n",
    "```"
   ]
  },
  {
   "cell_type": "code",
   "execution_count": 42,
   "metadata": {},
   "outputs": [],
   "source": [
    "## 아래에 코드를 작성하세요.\n",
    "def sum_list_while(numbers):\n",
    "    total = 0\n",
    "    \n",
    "    # 외부 리스트를 순회\n",
    "    \n",
    "    # 어떻게? while로\n",
    "    i = 0  # 외부 리스트 인덱스 값\n",
    "    while i < len(numbers): # => 0, 1, 2\n",
    "#         print(i)\n",
    "#         print(numbers[i])\n",
    "        \n",
    "        # 내부 리스트 순회\n",
    "        j = 0  # 내부 리스트 인덱스값\n",
    "        while j < len(numbers[i]): # => 0, 1\n",
    "            total += numbers[i][j]\n",
    "            # 내부 리스트의 다음 값에 도달하기 위해 + 1\n",
    "            j += 1\n",
    "        i += 1 # i가 늘어나면서 i == 3이 되면 while문이 끝남\n",
    "    return total\n",
    "    \n",
    "    \n",
    "#     total = 0\n",
    "#     i = 0\n",
    "#     while i < len(numbers):\n",
    "#         x, y = numbers[i]\n",
    "#         total += x + y\n",
    "#         i += 1\n",
    "#     return total"
   ]
  },
  {
   "cell_type": "code",
   "execution_count": 41,
   "metadata": {},
   "outputs": [
    {
     "name": "stdout",
     "output_type": "stream",
     "text": [
      "70\n"
     ]
    }
   ],
   "source": [
    "print(sum_list_while([[1, 4], [10, 5], [20, 30]]))"
   ]
  },
  {
   "cell_type": "markdown",
   "metadata": {},
   "source": [
    "## 시험 점수\n",
    "\n",
    "> 2차원 배열\n",
    "\n",
    "\n",
    "* A반 학생들의 점수는 아래와 같고, students 리스트에 저장되어 있다.\n",
    "\n",
    "    * A학생(국어 100점, 수학 80점, 영어 100점)\n",
    "    * B학생(국어 90점, 수학 90점, 영어 60점)\n",
    "    * C학생(국어 80점, 수학 80점, 영어 80점)\n",
    "\n",
    "```python\n",
    "students = [\n",
    " [100, 80, 100],\n",
    " [90, 90, 60],\n",
    " [80, 80, 80]\n",
    "]\n",
    "```"
   ]
  },
  {
   "cell_type": "markdown",
   "metadata": {},
   "source": [
    "### 학생별 출력\n",
    "\n",
    "* 아래의 리스트를 반복하여 **학생별 총합**을 순서대로 `출력`하시오.\n",
    "\n",
    "* `sum` 함수 사용 금지\n",
    "\n",
    "---\n",
    "**예시 입력**\n",
    "\n",
    "```python\n",
    "students = [\n",
    " [100, 80, 100],\n",
    " [90, 90, 60],\n",
    " [80, 80, 80]\n",
    "]\n",
    "```\n",
    "\n",
    "**예시 출력**\n",
    "```\n",
    "280\n",
    "240\n",
    "240\n",
    "```"
   ]
  },
  {
   "cell_type": "code",
   "execution_count": 7,
   "metadata": {},
   "outputs": [],
   "source": [
    "students = [\n",
    " [100, 80, 100],\n",
    " [90, 90, 60],\n",
    " [80, 80, 80]\n",
    "]"
   ]
  },
  {
   "cell_type": "code",
   "execution_count": 8,
   "metadata": {},
   "outputs": [
    {
     "name": "stdout",
     "output_type": "stream",
     "text": [
      "280\n",
      "240\n",
      "240\n"
     ]
    }
   ],
   "source": [
    "# 아래에 풀이를 작성하세요. 함수 정의는 필요없습니다.\n",
    "\n",
    "# 여기에 total = 0 을 쓰지 않은 이유는 모든 요소의 합을 구하기 위한 것이 아니기 때문\n",
    "for i in students:\n",
    "\n",
    "    total = 0 # 이걸 왜 여기에 넣었지? 각 학생의 요소의 합이 필요하기 때문. i값 하나 당 total 값 하나.\n",
    "              # 여기에 total = 0을 둬야 'for j in i'가 끝나고 초기화 돼서 다시 시작.\n",
    "    \n",
    "    for j in i:\n",
    "        total += j\n",
    "\n",
    "    print(total)"
   ]
  },
  {
   "cell_type": "code",
   "execution_count": 44,
   "metadata": {},
   "outputs": [
    {
     "name": "stdout",
     "output_type": "stream",
     "text": [
      "280\n",
      "240\n",
      "240\n"
     ]
    }
   ],
   "source": [
    "# for문 index 버전\n",
    "for i in range(len(students)):\n",
    "    # print(students[i]) # 여기까지 하면 각 학생에 대한 정보만 나옴. i : 학생 리스트 인덱스\n",
    "    total = 0\n",
    "    for j in range(len(students[i])): # j : 학생의 과목별 점수 리스트 인덱스\n",
    "        total += students[i][j]  # 학생_데이터[학생_인덱스][학생_과목_인덱스]\n",
    "    \n",
    "    print(total)\n",
    "        "
   ]
  },
  {
   "cell_type": "markdown",
   "metadata": {},
   "source": [
    "### 과목별 출력\n",
    "\n",
    "* 아래의 리스트를 반복하여 **과목별 총합**을 순서대로 `출력`하시오.\n",
    "* `sum` 함수 사용 금지\n",
    "\n",
    "---\n",
    "**예시 입력**\n",
    "\n",
    "```python\n",
    "students = [\n",
    " [100, 80, 100],\n",
    " [90, 90, 60],\n",
    " [80, 80, 80]\n",
    "]\n",
    "```\n",
    "\n",
    "**예시 출력**\n",
    "```\n",
    "270\n",
    "250\n",
    "240\n",
    "```"
   ]
  },
  {
   "cell_type": "code",
   "execution_count": 9,
   "metadata": {},
   "outputs": [],
   "source": [
    "students = [\n",
    " [100, 80, 100],\n",
    " [90, 90, 60],\n",
    " [80, 80, 80]\n",
    "]"
   ]
  },
  {
   "cell_type": "code",
   "execution_count": 46,
   "metadata": {},
   "outputs": [
    {
     "name": "stdout",
     "output_type": "stream",
     "text": [
      "270\n",
      "250\n",
      "240\n"
     ]
    }
   ],
   "source": [
    "# 아래에 풀이를 작성하세요. 함수 정의는 필요없습니다.\n",
    "\n",
    "for x in range(len(students[0])): # 과목 : 0 - 국어, 1 - 수학, 2- 영어\n",
    "    total = 0\n",
    "    for y in range(len(students)): # 학생 : 0 - A, 1 - B, 2 - C\n",
    "        \n",
    "        \n",
    "        total += students[y][x]\n",
    "    print(total)"
   ]
  }
 ],
 "metadata": {
  "kernelspec": {
   "display_name": "Python 3",
   "language": "python",
   "name": "python3"
  },
  "language_info": {
   "codemirror_mode": {
    "name": "ipython",
    "version": 3
   },
   "file_extension": ".py",
   "mimetype": "text/x-python",
   "name": "python",
   "nbconvert_exporter": "python",
   "pygments_lexer": "ipython3",
   "version": "3.8.7"
  },
  "toc": {
   "base_numbering": 1,
   "nav_menu": {},
   "number_sections": true,
   "sideBar": true,
   "skip_h1_title": false,
   "title_cell": "Table of Contents",
   "title_sidebar": "Contents",
   "toc_cell": false,
   "toc_position": {},
   "toc_section_display": true,
   "toc_window_display": false
  }
 },
 "nbformat": 4,
 "nbformat_minor": 4
}
