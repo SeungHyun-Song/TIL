{
 "cells": [
  {
   "cell_type": "markdown",
   "metadata": {},
   "source": [
    "# Practice 2\n",
    "\n",
    "> 자료 구조 "
   ]
  },
  {
   "cell_type": "markdown",
   "metadata": {},
   "source": [
    "## 모든 위치\n",
    "\n",
    "> 주어진 문자열(text)에서 제시된 알파벳(alphabet)의 등장 위치를 리스트로 반환하시오.\n",
    "> 해당 알파벳이 등장하지 않으면, -1을 반환하시오.\n",
    "\n",
    "---\n",
    "\n",
    "예시)\n",
    "\n",
    "```python\n",
    "print(my_find('apple', 'p')) # [1, 2]\n",
    "print(my_find('a', 'p'))     # -1\n",
    "```\n"
   ]
  },
  {
   "cell_type": "code",
   "execution_count": 48,
   "metadata": {},
   "outputs": [],
   "source": [
    "def my_find(text, alphabet):\n",
    "#     result = []\n",
    "#     for alphabet in text:\n",
    "#     if text.count(alphabet) > 0:\n",
    "#         result += [text.find(alphabet), text.count(alphabet)]\n",
    "#         return result\n",
    "#     else:\n",
    "#         return -1  문제 잘못 읽었다야....\n",
    "\n",
    "\n",
    "    # 제시된 알파벳이 주어진 문자열에 등장하지 않으면,\n",
    "    if alphabet not in text:\n",
    "        return -1\n",
    "    \n",
    "    # 제시된 알파벳이 주어진 문자열에 등장하면,\n",
    "    result = []\n",
    "    for i in range(len(text)):\n",
    "        if text[i] == alphabet:\n",
    "            result.append(i)\n",
    "\n",
    "#     Pythonic!\n",
    "#     for idx, char in enumerate(text):\n",
    "#         if char == alphabet:\n",
    "#             result.append(idx)\n",
    "    \n",
    "    return result"
   ]
  },
  {
   "cell_type": "code",
   "execution_count": 3,
   "metadata": {
    "scrolled": false
   },
   "outputs": [
    {
     "name": "stdout",
     "output_type": "stream",
     "text": [
      "0\n"
     ]
    }
   ],
   "source": [
    "n = 'apple'\n",
    "print(n.find('a'))d"
   ]
  },
  {
   "cell_type": "code",
   "execution_count": 49,
   "metadata": {},
   "outputs": [
    {
     "name": "stdout",
     "output_type": "stream",
     "text": [
      "[1, 2]\n",
      "-1\n"
     ]
    }
   ],
   "source": [
    "# 해당 코드를 통해 올바른 결과가 나오는지 확인하시오.\n",
    "print(my_find('apple', 'p'))\n",
    "print(my_find('a', 'p'))"
   ]
  },
  {
   "cell_type": "markdown",
   "metadata": {},
   "source": [
    "## 출석 체크\n",
    "\n",
    "> 주어진 학생 n과 출석한 학생명부 students 문자열이 있다. 결석한 학생들로 구성된 문자열을 반환하시오.\n",
    ">\n",
    "> n이 7일 때, 1 2 3 4 5 6 7의 출석 번호가 부여되고,\n",
    ">\n",
    "> '1 3 5'는 출석한 학생 명부이다. \n",
    ">\n",
    "> 즉, 결석한 학생 명부 '2 4 6 7'을 return 해야 한다.\n",
    "\n",
    "---\n",
    "\n",
    "예시)\n",
    "\n",
    "```python\n",
    "print(check(7, '1 3 5')) # 2 4 6 7\n",
    "```\n"
   ]
  },
  {
   "cell_type": "code",
   "execution_count": null,
   "metadata": {},
   "outputs": [],
   "source": [
    "# '1 3 5' => 모든 언어에 다 있는 string 형식\n",
    "# 이 것을 파이썬의 리스트 형식으로 바꿔서 쓰는 것을 연습하자."
   ]
  },
  {
   "cell_type": "code",
   "execution_count": 52,
   "metadata": {},
   "outputs": [
    {
     "data": {
      "text/plain": [
       "['1', '3', '5']"
      ]
     },
     "execution_count": 52,
     "metadata": {},
     "output_type": "execute_result"
    }
   ],
   "source": [
    "'1 3 5'.split()"
   ]
  },
  {
   "cell_type": "code",
   "execution_count": 53,
   "metadata": {
    "scrolled": true
   },
   "outputs": [
    {
     "data": {
      "text/plain": [
       "<map at 0x21b7852a1f0>"
      ]
     },
     "execution_count": 53,
     "metadata": {},
     "output_type": "execute_result"
    }
   ],
   "source": [
    "map(int, '1 3 5'.split())"
   ]
  },
  {
   "cell_type": "code",
   "execution_count": 54,
   "metadata": {},
   "outputs": [
    {
     "data": {
      "text/plain": [
       "[1, 3, 5]"
      ]
     },
     "execution_count": 54,
     "metadata": {},
     "output_type": "execute_result"
    }
   ],
   "source": [
    "list(map(int, '1 3 5'.split()))"
   ]
  },
  {
   "cell_type": "code",
   "execution_count": 61,
   "metadata": {},
   "outputs": [],
   "source": [
    "def check(n, students):\n",
    "#     1. 확인\n",
    "#     print(n)\n",
    "#     print(students, type(students))\n",
    "    \n",
    "    # 출석한 학생 : '1 3 5' -> [1, 3, 5]\n",
    "    students = list(map(int, students.split()))\n",
    "    \n",
    "    # 결석자 출석 번호 리스트\n",
    "    absents = []\n",
    "    \n",
    "    # 1번부터 n번까지(전체학생) 출석번호 순회\n",
    "    for i in range(1, n + 1):\n",
    "        # i 번 학생이 출석한 학생 리스트에 없으면,\n",
    "        if i not in students:\n",
    "            # 결석자 리스트에 append\n",
    "            absents.append(str(i))\n",
    "        \n",
    "    # [2, 4, 6, 7]이 아닌 ' 2 4 6 7' 문자열 형태로 return\n",
    "    return ' '.join(absents)"
   ]
  },
  {
   "cell_type": "code",
   "execution_count": 51,
   "metadata": {
    "ExecuteTime": {
     "end_time": "2020-07-22T07:58:30.841852Z",
     "start_time": "2020-07-22T07:58:30.838924Z"
    }
   },
   "outputs": [
    {
     "name": "stdout",
     "output_type": "stream",
     "text": [
      "7\n",
      "1 3 5 <class 'str'>\n",
      "None\n"
     ]
    }
   ],
   "source": [
    "# 해당 코드를 통해 올바른 결과가 나오는지 확인하시오.\n",
    "# 1. print(check(7, '1 3 5')) # 2 4 6 7"
   ]
  },
  {
   "cell_type": "code",
   "execution_count": 62,
   "metadata": {},
   "outputs": [
    {
     "name": "stdout",
     "output_type": "stream",
     "text": [
      "2 4 6 7\n"
     ]
    }
   ],
   "source": [
    "print(check(7, '1 3 5')) # 2 4 6 7"
   ]
  }
 ],
 "metadata": {
  "kernelspec": {
   "display_name": "Python 3",
   "language": "python",
   "name": "python3"
  },
  "language_info": {
   "codemirror_mode": {
    "name": "ipython",
    "version": 3
   },
   "file_extension": ".py",
   "mimetype": "text/x-python",
   "name": "python",
   "nbconvert_exporter": "python",
   "pygments_lexer": "ipython3",
   "version": "3.8.7"
  },
  "toc": {
   "base_numbering": 1,
   "nav_menu": {},
   "number_sections": true,
   "sideBar": true,
   "skip_h1_title": false,
   "title_cell": "Table of Contents",
   "title_sidebar": "Contents",
   "toc_cell": false,
   "toc_position": {},
   "toc_section_display": true,
   "toc_window_display": false
  }
 },
 "nbformat": 4,
 "nbformat_minor": 4
}
