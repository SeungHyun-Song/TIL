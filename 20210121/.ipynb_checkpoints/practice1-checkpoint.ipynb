{
 "cells": [
  {
   "cell_type": "markdown",
   "metadata": {},
   "source": [
    "# Practice 1\n",
    "\n",
    "> 함수"
   ]
  },
  {
   "cell_type": "markdown",
   "metadata": {},
   "source": [
    "## `abs()` 직접 구현하기\n",
    "\n",
    "> 절댓값은 숫자형 자료(int, float)가 들어오면 절댓값을 반환하고, 복소수형 자료(complex)가 들어오면 해당하는 자료의 크기를 반환합니다. \n",
    "> \n",
    "> 파이썬 내장 함수 `abs()`를 직접 구현한 `my_abs()`를 작성하시오.\n",
    "\n",
    "---\n",
    "\n",
    "**공식문서**\n",
    "<center>\n",
    "    <img src=\"https://user-images.githubusercontent.com/52446416/61273106-b6ee5c00-a7e3-11e9-8ec2-a086b0bc584f.png\", alt=\"\">\n",
    "</center>\n",
    "\n",
    "**복소수 크기 구하는법**\n",
    "<center>\n",
    "    <img src=\"https://user-images.githubusercontent.com/52446416/61273105-b655c580-a7e3-11e9-9859-0a9ffdecdf7d.png\", alt=\"\">\n",
    "</center>\n",
    "\n",
    "예시)\n",
    "\n",
    "```python\n",
    "my_abs(3+4j) #=> 5.0\n",
    "my_abs(-0.0) #=> 0.0\n",
    "my_abs(-5) #=> 5\n",
    "```"
   ]
  },
  {
   "cell_type": "code",
   "execution_count": 45,
   "metadata": {},
   "outputs": [],
   "source": [
    "# 아래에 코드를 작성하시오.\n",
    "# x = complex(input('x = '))   얘는 직접 실행하려고 작성했던 코드\n",
    "\n",
    "def my_abs1(x):\n",
    "    if x.imag == 0:\n",
    "        return (x.real **2)**0.5\n",
    "    else:\n",
    "        return ((x.real **2) + (x.imag **2))**0.5\n",
    "\n"
   ]
  },
  {
   "cell_type": "code",
   "execution_count": 46,
   "metadata": {},
   "outputs": [],
   "source": [
    "# 교수님 답안(?)\n",
    "def my_abs(x):\n",
    "    # 1. 복소수인 경우 : 특별한 계산식 필요\n",
    "    if type(x) == complex:\n",
    "        return ((x.real**2) + (x.imag**2))**0.5\n",
    "    # 2. 복소수가 아닌 경우 : 앞에 부호만 바꾸면 됨\n",
    "    else:\n",
    "        if x == 0:\n",
    "            return x**2\n",
    "        elif x < 0:\n",
    "            return -x\n",
    "        else:\n",
    "            return x"
   ]
  },
  {
   "cell_type": "code",
   "execution_count": 44,
   "metadata": {},
   "outputs": [
    {
     "name": "stdout",
     "output_type": "stream",
     "text": [
      "3.0\n"
     ]
    }
   ],
   "source": [
    "print(my_abs(3))"
   ]
  },
  {
   "cell_type": "code",
   "execution_count": null,
   "metadata": {},
   "outputs": [],
   "source": [
    "# 아래에 코드를 작성하시오.\n",
    "\n",
    "def my_abs(x):\n",
    "    pass "
   ]
  },
  {
   "cell_type": "code",
   "execution_count": 43,
   "metadata": {},
   "outputs": [
    {
     "name": "stdout",
     "output_type": "stream",
     "text": [
      "5.0\n",
      "0.0\n",
      "5.0\n",
      "5.0 0.0 5\n"
     ]
    }
   ],
   "source": [
    "# 아래의 코드를 실행하여 출력된 결과를 확인하시오.\n",
    "\n",
    "print(my_abs(3+4j))\n",
    "print(my_abs(-0.0))\n",
    "print(my_abs(-5))\n",
    "print(abs(3+4j), abs(-0.0), abs(-5))"
   ]
  },
  {
   "cell_type": "markdown",
   "metadata": {},
   "source": [
    "## `all()` 직접 구현하기\n",
    "\n",
    "> `all()`은 인자로 받는 iterable(range, list)의 모든 요소가 참이거나 비어있으면 True를 반환합니다. \n",
    ">\n",
    "> 파이썬 내장 함수 `all()`을 직접 구현한 `my_all()`을 작성하시오.\n",
    "\n",
    "\n",
    "예시)\n",
    "\n",
    "```python\n",
    "my_all([]) #=> True\n",
    "my_all([1, 2, 5, '6']) #=> True\n",
    "my_all([[], 2, 5, '6']) #=> False\n",
    "```"
   ]
  },
  {
   "cell_type": "code",
   "execution_count": 51,
   "metadata": {},
   "outputs": [],
   "source": [
    "# 아래에 코드를 작성하시오.\n",
    "\n",
    "def my_all(elements):\n",
    "    # 1. 변수 초기화\n",
    "    result = True\n",
    "    \n",
    "    # 2. 받은 elements 순회\n",
    "    for element in elements:\n",
    "        if bool(element) == False:\n",
    "            result = False\n",
    "            # return을 쓰면 함수 자체를 빠져나감.\n",
    "            # For 문을 벗어나기 위해서는 break 사용.\n",
    "            break\n",
    "    # 4. Return\n",
    "    return result"
   ]
  },
  {
   "cell_type": "code",
   "execution_count": 53,
   "metadata": {},
   "outputs": [],
   "source": [
    "def my_all1(elements):\n",
    "    result = True\n",
    "    for element in elements:\n",
    "        if not element: # if bool(element) == False 를 if not bool(element): 로도 표현할 수 있다. ## if not element 로 써도 파이썬이 바꿔준다.\n",
    "            result = False\n",
    "            \n",
    "            break\n",
    "    # 4. Return\n",
    "    return result"
   ]
  },
  {
   "cell_type": "code",
   "execution_count": 54,
   "metadata": {},
   "outputs": [],
   "source": [
    "# for문을 돌지 않으면 두 번째 행 result = True 삭제하고 마지막 행에서 return True 라고 해도 되지않을까?\n",
    "def my_all2(elements):\n",
    "    for element in elements:\n",
    "        if not element:\n",
    "            result = False\n",
    "            break\n",
    "    return True\n",
    "\n",
    "# 그런데 이 경우에는 [1, 2, []]을 넣어보면 []에서 걸리네?"
   ]
  },
  {
   "cell_type": "code",
   "execution_count": 55,
   "metadata": {},
   "outputs": [],
   "source": [
    "# 그래서 if not 상태에서 return False 를 출력하도록 하자.\n",
    "def my_all3(elements):\n",
    "    for element in elements:\n",
    "        if not element:\n",
    "            return False\n",
    "    return True"
   ]
  },
  {
   "cell_type": "code",
   "execution_count": 52,
   "metadata": {},
   "outputs": [
    {
     "name": "stdout",
     "output_type": "stream",
     "text": [
      "True\n",
      "True\n",
      "False\n",
      "True True False\n"
     ]
    }
   ],
   "source": [
    "# 아래의 코드를 실행하여 출력된 결과를 확인하시오.\n",
    "\n",
    "print(my_all([]))\n",
    "print(my_all([1, 2, 5, '6']))\n",
    "print(my_all([[], 2, 5, '6']))\n",
    "print(all([]), all([1, 2, 5, '6']), all([[], 2, 5, '6']))"
   ]
  },
  {
   "cell_type": "markdown",
   "metadata": {},
   "source": [
    "## `any()` 직접 구현하기\n",
    "\n",
    "> `any()`는 인자로 받는 iterable(range, list)의 요소 중 하나라도 참이면 True를 반환하고, 비어있으면 False를 반환합니다. \n",
    "> \n",
    "> 파이썬 내장 함수 `any()`을 직접 구현한 `my_any()` 함수를 작성하시오.\n",
    "\n",
    "예시)\n",
    "\n",
    "```python\n",
    "my_any([1, 2, 5, '6']) #=> True\n",
    "my_any([[], 2, 5, '6']) #=> True\n",
    "my_any([0]) #=> False\n",
    "```"
   ]
  },
  {
   "cell_type": "code",
   "execution_count": 56,
   "metadata": {},
   "outputs": [],
   "source": [
    "# 아래에 코드를 작성하시오.\n",
    "\n",
    "def my_any(elements):\n",
    "    result = False\n",
    "    for element in elements:\n",
    "        if bool(element) == True:\n",
    "            result = True\n",
    "            break\n",
    "    return False"
   ]
  },
  {
   "cell_type": "code",
   "execution_count": 59,
   "metadata": {},
   "outputs": [],
   "source": [
    "# 위를 간략화\n",
    "def my_any1(elements):\n",
    "    result = False\n",
    "    for element in elements:\n",
    "        if element:\n",
    "            result = True\n",
    "            break\n",
    "    return False"
   ]
  },
  {
   "cell_type": "code",
   "execution_count": 60,
   "metadata": {},
   "outputs": [],
   "source": [
    "# 더 간략화\n",
    "def my_any2(elements):\n",
    "    for element in elements:\n",
    "        if element:\n",
    "            result = True\n",
    "            break\n",
    "    return False"
   ]
  },
  {
   "cell_type": "code",
   "execution_count": 61,
   "metadata": {},
   "outputs": [],
   "source": [
    "# 더!\n",
    "def my_any3(elements):\n",
    "    for element in elements:\n",
    "        if element:\n",
    "            return True\n",
    "    return False"
   ]
  },
  {
   "cell_type": "code",
   "execution_count": 58,
   "metadata": {},
   "outputs": [
    {
     "name": "stdout",
     "output_type": "stream",
     "text": [
      "False\n",
      "False\n",
      "False\n",
      "True True False\n"
     ]
    }
   ],
   "source": [
    "print(my_any([1, 2, 5, '6']))\n",
    "print(my_any([[], 2, 5, '6']))\n",
    "print(my_any([0]))\n",
    "print(any([1, 2, 5, '6']), any([[], 2, 5, '6']), any([0]))"
   ]
  }
 ],
 "metadata": {
  "kernelspec": {
   "display_name": "Python 3",
   "language": "python",
   "name": "python3"
  },
  "language_info": {
   "codemirror_mode": {
    "name": "ipython",
    "version": 3
   },
   "file_extension": ".py",
   "mimetype": "text/x-python",
   "name": "python",
   "nbconvert_exporter": "python",
   "pygments_lexer": "ipython3",
   "version": "3.8.7"
  },
  "toc": {
   "base_numbering": 1,
   "nav_menu": {},
   "number_sections": true,
   "sideBar": true,
   "skip_h1_title": false,
   "title_cell": "Table of Contents",
   "title_sidebar": "Contents",
   "toc_cell": false,
   "toc_position": {},
   "toc_section_display": true,
   "toc_window_display": false
  }
 },
 "nbformat": 4,
 "nbformat_minor": 4
}
